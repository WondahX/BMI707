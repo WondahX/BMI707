{
 "cells": [
  {
   "cell_type": "code",
   "execution_count": 12,
   "metadata": {},
   "outputs": [],
   "source": [
    "import pandas as pd\n",
    "import numpy as np\n",
    "dta = pd.read_csv(\"/Users/fuyuguo/EPI290/Project/BMI707/nhanes.csv\")"
   ]
  },
  {
   "cell_type": "code",
   "execution_count": 13,
   "metadata": {},
   "outputs": [
    {
     "data": {
      "text/plain": [
       "Index(['lnLTL', 'PCB74', 'PCB99', 'PCB118', 'PCB138', 'PCB153', 'PCB170',\n",
       "       'PCB180', 'PCB187', 'PCB194', 'PCB169', 'PCB126', 'Dioxin1', 'Dioxin2',\n",
       "       'Dioxin3', 'Furan1', 'Furan2', 'Furan3', 'Furan4', 'age_cent', 'male',\n",
       "       'bmi_cat3', 'edu_cat', 'race_cat', 'LBXWBCSI', 'LBXLYPCT', 'LBXMOPCT',\n",
       "       'LBXNEPCT', 'LBXEOPCT', 'LBXBAPCT', 'ln_lbxcot'],\n",
       "      dtype='object')"
      ]
     },
     "execution_count": 13,
     "metadata": {},
     "output_type": "execute_result"
    }
   ],
   "source": [
    "dta.columns"
   ]
  },
  {
   "cell_type": "code",
   "execution_count": 14,
   "metadata": {},
   "outputs": [
    {
     "name": "stdout",
     "output_type": "stream",
     "text": [
      "Index(['lnLTL', 'PCB74', 'PCB99', 'PCB118', 'PCB138', 'PCB153', 'PCB170',\n",
      "       'PCB180', 'PCB187', 'PCB194', 'PCB169', 'PCB126', 'Dioxin1', 'Dioxin2',\n",
      "       'Dioxin3', 'Furan1', 'Furan2', 'Furan3', 'Furan4', 'age_cent', 'male',\n",
      "       'LBXWBCSI', 'LBXLYPCT', 'LBXMOPCT', 'LBXNEPCT', 'LBXEOPCT', 'LBXBAPCT',\n",
      "       'ln_lbxcot', 'bmi_cat3_1', 'bmi_cat3_2', 'bmi_cat3_3', 'edu_cat_1',\n",
      "       'edu_cat_2', 'edu_cat_3', 'edu_cat_4', 'race_cat_1', 'race_cat_2',\n",
      "       'race_cat_3', 'race_cat_4'],\n",
      "      dtype='object')\n"
     ]
    }
   ],
   "source": [
    "dta[['bmi_cat3', 'edu_cat','race_cat']] = dta[['bmi_cat3', 'edu_cat','race_cat']].astype('str')\n",
    "df = pd.get_dummies(dta[['bmi_cat3', 'edu_cat','race_cat']])\n",
    "df.columns\n",
    "dta[df.columns] = df\n",
    "dta = dta.drop(columns = ['bmi_cat3', 'edu_cat','race_cat'])\n",
    "print(dta.columns)\n"
   ]
  },
  {
   "cell_type": "code",
   "execution_count": 15,
   "metadata": {},
   "outputs": [
    {
     "name": "stdout",
     "output_type": "stream",
     "text": [
      "Index(['lnLTL', 'PCB74', 'PCB99', 'PCB118', 'PCB138', 'PCB153', 'PCB170',\n",
      "       'PCB180', 'PCB187', 'PCB194', 'PCB169', 'PCB126', 'Dioxin1', 'Dioxin2',\n",
      "       'Dioxin3', 'Furan1', 'Furan2', 'Furan3', 'Furan4', 'age_cent', 'male',\n",
      "       'LBXWBCSI', 'LBXLYPCT', 'LBXMOPCT', 'LBXNEPCT', 'LBXEOPCT', 'LBXBAPCT',\n",
      "       'ln_lbxcot', 'bmi_cat3_2', 'bmi_cat3_3', 'edu_cat_2', 'edu_cat_3',\n",
      "       'edu_cat_4', 'race_cat_2', 'race_cat_3', 'race_cat_4'],\n",
      "      dtype='object')\n"
     ]
    }
   ],
   "source": [
    "# further drop new dummy variables to avoid collinearity\n",
    "dta = dta.drop(columns =['bmi_cat3_1', 'edu_cat_1','race_cat_1'])\n",
    "print(dta.columns)"
   ]
  },
  {
   "attachments": {},
   "cell_type": "markdown",
   "metadata": {},
   "source": [
    "## Randomly split training and testing dataset"
   ]
  },
  {
   "attachments": {},
   "cell_type": "markdown",
   "metadata": {},
   "source": [
    "Centralize and scale white cell values before splitting"
   ]
  },
  {
   "cell_type": "code",
   "execution_count": 16,
   "metadata": {},
   "outputs": [
    {
     "data": {
      "text/plain": [
       "LBXWBCSI    -1.773700e-15\n",
       "LBXLYPCT     3.235697e-14\n",
       "LBXMOPCT    -2.761943e-15\n",
       "LBXEOPCT    -5.395485e-15\n",
       "LBXBAPCT    -7.948666e-16\n",
       "LBXNEPCT    -5.995337e-14\n",
       "ln_lbxcot    5.648744e-15\n",
       "dtype: float64"
      ]
     },
     "execution_count": 16,
     "metadata": {},
     "output_type": "execute_result"
    }
   ],
   "source": [
    "df_mean = dta[[\"LBXWBCSI\", \"LBXLYPCT\", \"LBXMOPCT\", \n",
    "      \"LBXEOPCT\", \"LBXBAPCT\", \"LBXNEPCT\", \"ln_lbxcot\"]].mean()\n",
    "\n",
    "dta[[\"LBXWBCSI\", \"LBXLYPCT\", \"LBXMOPCT\", \n",
    "      \"LBXEOPCT\", \"LBXBAPCT\", \"LBXNEPCT\", \"ln_lbxcot\"]] =  dta[[\"LBXWBCSI\", \"LBXLYPCT\", \"LBXMOPCT\", \n",
    "      \"LBXEOPCT\", \"LBXBAPCT\", \"LBXNEPCT\", \"ln_lbxcot\"]].sub(df_mean)\n",
    "\n",
    "dta[[\"LBXWBCSI\", \"LBXLYPCT\", \"LBXMOPCT\", \n",
    "      \"LBXEOPCT\", \"LBXBAPCT\", \"LBXNEPCT\", \"ln_lbxcot\"]].mean()\n"
   ]
  },
  {
   "cell_type": "code",
   "execution_count": 17,
   "metadata": {},
   "outputs": [
    {
     "data": {
      "text/plain": [
       "LBXWBCSI     1.0\n",
       "LBXLYPCT     1.0\n",
       "LBXMOPCT     1.0\n",
       "LBXEOPCT     1.0\n",
       "LBXBAPCT     1.0\n",
       "LBXNEPCT     1.0\n",
       "ln_lbxcot    1.0\n",
       "dtype: float64"
      ]
     },
     "execution_count": 17,
     "metadata": {},
     "output_type": "execute_result"
    }
   ],
   "source": [
    "df_std = dta[[\"LBXWBCSI\", \"LBXLYPCT\", \"LBXMOPCT\", \n",
    "      \"LBXEOPCT\", \"LBXBAPCT\", \"LBXNEPCT\", \"ln_lbxcot\"]].std()\n",
    "\n",
    "dta[[\"LBXWBCSI\", \"LBXLYPCT\", \"LBXMOPCT\", \n",
    "      \"LBXEOPCT\", \"LBXBAPCT\", \"LBXNEPCT\", \"ln_lbxcot\"]] = dta[[\"LBXWBCSI\", \"LBXLYPCT\", \"LBXMOPCT\", \n",
    "      \"LBXEOPCT\", \"LBXBAPCT\", \"LBXNEPCT\", \"ln_lbxcot\"]]/df_std\n",
    "dta[[\"LBXWBCSI\", \"LBXLYPCT\", \"LBXMOPCT\", \n",
    "      \"LBXEOPCT\", \"LBXBAPCT\", \"LBXNEPCT\", \"ln_lbxcot\"]].std()\n"
   ]
  },
  {
   "cell_type": "code",
   "execution_count": 18,
   "metadata": {},
   "outputs": [
    {
     "name": "stdout",
     "output_type": "stream",
     "text": [
      "(702, 36)\n",
      "(301, 36)\n"
     ]
    }
   ],
   "source": [
    "train = dta.sample(frac=0.7, random_state=123)\n",
    "test = dta.drop(train.index)\n",
    "print(train.shape)\n",
    "print(test.shape)"
   ]
  },
  {
   "cell_type": "code",
   "execution_count": 19,
   "metadata": {},
   "outputs": [],
   "source": [
    "train.to_csv(\"trainData.csv\",index=False)\n",
    "test.to_csv(\"testData.csv\",index=False)"
   ]
  },
  {
   "cell_type": "markdown",
   "metadata": {},
   "source": []
  }
 ],
 "metadata": {
  "kernelspec": {
   "display_name": "Python 3",
   "language": "python",
   "name": "python3"
  },
  "language_info": {
   "codemirror_mode": {
    "name": "ipython",
    "version": 3
   },
   "file_extension": ".py",
   "mimetype": "text/x-python",
   "name": "python",
   "nbconvert_exporter": "python",
   "pygments_lexer": "ipython3",
   "version": "3.9.13"
  },
  "orig_nbformat": 4
 },
 "nbformat": 4,
 "nbformat_minor": 2
}
