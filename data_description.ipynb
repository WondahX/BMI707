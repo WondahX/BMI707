{
 "cells": [
  {
   "cell_type": "code",
   "execution_count": 1,
   "metadata": {},
   "outputs": [],
   "source": [
    "import pandas as pd\n",
    "dta = pd.read_csv(\"/Users/fuyuguo/EPI290/Project/BMI707/nhanes.csv\")"
   ]
  },
  {
   "cell_type": "code",
   "execution_count": 5,
   "metadata": {},
   "outputs": [
    {
     "name": "stdout",
     "output_type": "stream",
     "text": [
      "(1003, 31)\n",
      "Index(['lnLTL', 'PCB74', 'PCB99', 'PCB118', 'PCB138', 'PCB153', 'PCB170',\n",
      "       'PCB180', 'PCB187', 'PCB194', 'PCB169', 'PCB126', 'Dioxin1', 'Dioxin2',\n",
      "       'Dioxin3', 'Furan1', 'Furan2', 'Furan3', 'Furan4', 'age_cent', 'male',\n",
      "       'bmi_cat3', 'edu_cat', 'race_cat', 'LBXWBCSI', 'LBXLYPCT', 'LBXMOPCT',\n",
      "       'LBXNEPCT', 'LBXEOPCT', 'LBXBAPCT', 'ln_lbxcot'],\n",
      "      dtype='object')\n"
     ]
    }
   ],
   "source": [
    "print(dta.shape)\n",
    "print(dta.columns)"
   ]
  },
  {
   "attachments": {},
   "cell_type": "markdown",
   "metadata": {},
   "source": [
    "- There are a total of 1003 individuals included in the data."
   ]
  },
  {
   "cell_type": "code",
   "execution_count": 6,
   "metadata": {},
   "outputs": [
    {
     "data": {
      "text/html": [
       "<div>\n",
       "<style scoped>\n",
       "    .dataframe tbody tr th:only-of-type {\n",
       "        vertical-align: middle;\n",
       "    }\n",
       "\n",
       "    .dataframe tbody tr th {\n",
       "        vertical-align: top;\n",
       "    }\n",
       "\n",
       "    .dataframe thead th {\n",
       "        text-align: right;\n",
       "    }\n",
       "</style>\n",
       "<table border=\"1\" class=\"dataframe\">\n",
       "  <thead>\n",
       "    <tr style=\"text-align: right;\">\n",
       "      <th></th>\n",
       "      <th>age_cent</th>\n",
       "    </tr>\n",
       "  </thead>\n",
       "  <tbody>\n",
       "    <tr>\n",
       "      <th>0</th>\n",
       "      <td>42</td>\n",
       "    </tr>\n",
       "    <tr>\n",
       "      <th>1</th>\n",
       "      <td>42</td>\n",
       "    </tr>\n",
       "    <tr>\n",
       "      <th>2</th>\n",
       "      <td>30</td>\n",
       "    </tr>\n",
       "    <tr>\n",
       "      <th>3</th>\n",
       "      <td>38</td>\n",
       "    </tr>\n",
       "    <tr>\n",
       "      <th>4</th>\n",
       "      <td>5</td>\n",
       "    </tr>\n",
       "    <tr>\n",
       "      <th>...</th>\n",
       "      <td>...</td>\n",
       "    </tr>\n",
       "    <tr>\n",
       "      <th>998</th>\n",
       "      <td>-19</td>\n",
       "    </tr>\n",
       "    <tr>\n",
       "      <th>999</th>\n",
       "      <td>-21</td>\n",
       "    </tr>\n",
       "    <tr>\n",
       "      <th>1000</th>\n",
       "      <td>8</td>\n",
       "    </tr>\n",
       "    <tr>\n",
       "      <th>1001</th>\n",
       "      <td>31</td>\n",
       "    </tr>\n",
       "    <tr>\n",
       "      <th>1002</th>\n",
       "      <td>17</td>\n",
       "    </tr>\n",
       "  </tbody>\n",
       "</table>\n",
       "<p>1003 rows × 1 columns</p>\n",
       "</div>"
      ],
      "text/plain": [
       "      age_cent\n",
       "0           42\n",
       "1           42\n",
       "2           30\n",
       "3           38\n",
       "4            5\n",
       "...        ...\n",
       "998        -19\n",
       "999        -21\n",
       "1000         8\n",
       "1001        31\n",
       "1002        17\n",
       "\n",
       "[1003 rows x 1 columns]"
      ]
     },
     "execution_count": 6,
     "metadata": {},
     "output_type": "execute_result"
    }
   ],
   "source": [
    "dta[['age_cent']]"
   ]
  },
  {
   "attachments": {},
   "cell_type": "markdown",
   "metadata": {},
   "source": [
    "- Age has been centralized so it is meanless to look at its mean or sd."
   ]
  },
  {
   "cell_type": "code",
   "execution_count": 10,
   "metadata": {},
   "outputs": [
    {
     "data": {
      "text/plain": [
       "male\n",
       "0       559\n",
       "1       444\n",
       "dtype: int64"
      ]
     },
     "execution_count": 10,
     "metadata": {},
     "output_type": "execute_result"
    }
   ],
   "source": [
    "dta[[\"male\"]].value_counts()"
   ]
  },
  {
   "cell_type": "code",
   "execution_count": 18,
   "metadata": {},
   "outputs": [
    {
     "name": "stdout",
     "output_type": "stream",
     "text": [
      "race_cat\n",
      "4           518\n",
      "2           227\n",
      "3           180\n",
      "1            78\n",
      "dtype: int64\n",
      "race_cat\n",
      "4           0.516451\n",
      "2           0.226321\n",
      "3           0.179462\n",
      "1           0.077767\n",
      "dtype: float64\n"
     ]
    }
   ],
   "source": [
    "print(dta[[\"race_cat\"]].value_counts())\n",
    "print(dta[[\"race_cat\"]].value_counts()/1003)"
   ]
  },
  {
   "cell_type": "code",
   "execution_count": null,
   "metadata": {},
   "outputs": [],
   "source": [
    "print(dta[[\"bmi_cat3\"]].value_counts())\n",
    "print(dta[[\"bmi_cat3\"]].value_counts()/1003)"
   ]
  },
  {
   "attachments": {},
   "cell_type": "markdown",
   "metadata": {},
   "source": [
    "- There are 444 males and 559 females"
   ]
  },
  {
   "cell_type": "code",
   "execution_count": 15,
   "metadata": {},
   "outputs": [
    {
     "name": "stdout",
     "output_type": "stream",
     "text": [
      "edu_cat\n",
      "1          318\n",
      "3          269\n",
      "2          228\n",
      "4          188\n",
      "dtype: int64\n",
      "edu_cat\n",
      "1          0.317049\n",
      "3          0.268195\n",
      "2          0.227318\n",
      "4          0.187438\n",
      "dtype: float64\n"
     ]
    }
   ],
   "source": [
    "print(dta[[\"edu_cat\"]].value_counts())\n",
    "print(dta[[\"edu_cat\"]].value_counts()/1003)\n"
   ]
  },
  {
   "cell_type": "code",
   "execution_count": null,
   "metadata": {},
   "outputs": [],
   "source": [
    "print(dta[[\"edu_cat\"]].value_counts())\n",
    "print(dta[[\"edu_cat\"]].value_counts()/1003)"
   ]
  },
  {
   "cell_type": "code",
   "execution_count": 23,
   "metadata": {},
   "outputs": [
    {
     "data": {
      "text/plain": [
       "LBXWBCSI      6.900000\n",
       "LBXLYPCT     29.000000\n",
       "LBXMOPCT      7.800000\n",
       "LBXEOPCT      2.300000\n",
       "LBXBAPCT      0.600000\n",
       "LBXNEPCT     59.100000\n",
       "ln_lbxcot    -2.703063\n",
       "dtype: float64"
      ]
     },
     "execution_count": 23,
     "metadata": {},
     "output_type": "execute_result"
    }
   ],
   "source": [
    "dta[[\"LBXWBCSI\", \"LBXLYPCT\", \"LBXMOPCT\", \n",
    "      \"LBXEOPCT\", \"LBXBAPCT\", \"LBXNEPCT\", \"ln_lbxcot\"]].median()\n"
   ]
  },
  {
   "cell_type": "code",
   "execution_count": 24,
   "metadata": {},
   "outputs": [
    {
     "data": {
      "text/plain": [
       "LBXWBCSI      5.700000\n",
       "LBXLYPCT     24.000000\n",
       "LBXMOPCT      6.600000\n",
       "LBXEOPCT      1.500000\n",
       "LBXBAPCT      0.400000\n",
       "LBXNEPCT     52.150000\n",
       "ln_lbxcot    -4.074542\n",
       "Name: 0.25, dtype: float64"
      ]
     },
     "execution_count": 24,
     "metadata": {},
     "output_type": "execute_result"
    }
   ],
   "source": [
    "dta[[\"LBXWBCSI\", \"LBXLYPCT\", \"LBXMOPCT\", \n",
    "      \"LBXEOPCT\", \"LBXBAPCT\", \"LBXNEPCT\", \"ln_lbxcot\"]].quantile(q=0.25)"
   ]
  },
  {
   "cell_type": "code",
   "execution_count": 25,
   "metadata": {},
   "outputs": [
    {
     "data": {
      "text/plain": [
       "LBXWBCSI      8.350000\n",
       "LBXLYPCT     35.450000\n",
       "LBXMOPCT      9.100000\n",
       "LBXEOPCT      3.700000\n",
       "LBXBAPCT      0.800000\n",
       "LBXNEPCT     65.250000\n",
       "ln_lbxcot     2.537274\n",
       "Name: 0.75, dtype: float64"
      ]
     },
     "execution_count": 25,
     "metadata": {},
     "output_type": "execute_result"
    }
   ],
   "source": [
    "dta[[\"LBXWBCSI\", \"LBXLYPCT\", \"LBXMOPCT\", \n",
    "      \"LBXEOPCT\", \"LBXBAPCT\", \"LBXNEPCT\", \"ln_lbxcot\"]].quantile(q=0.75)"
   ]
  },
  {
   "attachments": {},
   "cell_type": "markdown",
   "metadata": {},
   "source": [
    "- Numerical values for chemical exposures have been centralized so their averages are equal to 0.\n"
   ]
  }
 ],
 "metadata": {
  "kernelspec": {
   "display_name": "Python 3",
   "language": "python",
   "name": "python3"
  },
  "language_info": {
   "codemirror_mode": {
    "name": "ipython",
    "version": 3
   },
   "file_extension": ".py",
   "mimetype": "text/x-python",
   "name": "python",
   "nbconvert_exporter": "python",
   "pygments_lexer": "ipython3",
   "version": "3.9.13"
  },
  "orig_nbformat": 4
 },
 "nbformat": 4,
 "nbformat_minor": 2
}
