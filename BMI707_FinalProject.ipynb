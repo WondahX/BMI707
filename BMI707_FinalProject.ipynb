{
  "nbformat": 4,
  "nbformat_minor": 0,
  "metadata": {
    "colab": {
      "provenance": [],
      "include_colab_link": true
    },
    "kernelspec": {
      "name": "python3",
      "display_name": "Python 3"
    },
    "language_info": {
      "name": "python"
    }
  },
  "cells": [
    {
      "cell_type": "markdown",
      "metadata": {
        "id": "view-in-github",
        "colab_type": "text"
      },
      "source": [
        "<a href=\"https://colab.research.google.com/github/WondahX/BMI707/blob/main/BMI707_FinalProject.ipynb\" target=\"_parent\"><img src=\"https://colab.research.google.com/assets/colab-badge.svg\" alt=\"Open In Colab\"/></a>"
      ]
    },
    {
      "cell_type": "code",
      "execution_count": null,
      "metadata": {
        "id": "OK6lETu-xg2U"
      },
      "outputs": [],
      "source": []
    },
    {
      "cell_type": "code",
      "source": [
        "from google.colab import drive\n",
        "drive.mount('/content/drive')\n",
        "\n",
        "\n",
        "import pandas as pd\n",
        "import numpy as np\n",
        "import matplotlib.pyplot as plt \n"
      ],
      "metadata": {
        "colab": {
          "base_uri": "https://localhost:8080/"
        },
        "id": "cg0va0YF-0CA",
        "outputId": "00fc26d5-872c-4a93-9843-1adff93e8353"
      },
      "execution_count": 1,
      "outputs": [
        {
          "output_type": "stream",
          "name": "stdout",
          "text": [
            "Mounted at /content/drive\n"
          ]
        }
      ]
    },
    {
      "cell_type": "markdown",
      "source": [
        "**Proposal for the EPI 290/BMI 707 course project**\n",
        "\n",
        "\n",
        "**Prediction of leukocyte telomere length by persistent organic pollutants**\n",
        "\n",
        "Group 4\n",
        "Fuyu Guo\tYiwen Rao\tKailin Xu\tNick Ma\n",
        "\n",
        "Exposure to persistent organic pollutants (POPs) such as dioxins, furans, and polychlorinated biphenyls (PCBs) may influence leukocyte telomere length (LTL),1 a biomarker associated with chronic disease. In vitro research suggests dioxins may bind to the aryl hydrocarbon receptor (AhR) and induce telomerase activity,2 which elongates LTL. In this project, we aim to use persistent organic pollutant exposures as well as other demographic features to predict the length of LTL among 1003 U.S. adults.\n",
        "\n",
        "We will use data from the National health and Nutrition Examination Survey (NHANES) 2001 to 2002. In addition to the length of LTL, it contains:\n",
        "11 PCB exposures, namely PCB 74, 99, 118, 138, 153, 170, 180, 187, 194;\n",
        "3 Dixoin exposures, namely Dioxin 1, 2, 3;\n",
        "4 Furan exposures, namely Furan 1, 2, 3;\n",
        "6 blood biomarkers, including white blood cell count, lymphocyte percent, monocyte percent, eosinophils percent, basephiles percent, and segmented neutrophils percent;\n",
        "1 biomarker for conitine;\n",
        "5 demographic features, including sex, age at screening, race/ethnicity, body mass index (BMI), and education level.\n",
        "\n",
        "We aim to use neural networks to solve this regression problem. We will trymore advanced neural network models in the project with the progression of the class.\n",
        "\n",
        "References\n",
        "[1] Mitro, S. D., Birnbaum, L. S., Needham, B. L., & Zota, A. R. (2016). Cross-sectional associations between exposure to persistent organic pollutants and leukocyte telomere length among US adults in NHANES, 2001–2002. Environmental health perspectives, 124(5), 651-658.\n",
        "[2] Casati, L. G. M. S. S., Catalani, I. Z. M. D. P., & Marafante, E. (1998). Modulation of proto-oncogene expression by polychlorinated biphenyls in 3T3-L1 cell line. Journal of Toxicology and Environmental Health Part A, 55(2), 121-131.\n",
        "\n"
      ],
      "metadata": {
        "id": "x9V3JL8qzALW"
      }
    },
    {
      "cell_type": "markdown",
      "source": [
        "## Read in data"
      ],
      "metadata": {
        "id": "R0yz_e0QBvG0"
      }
    },
    {
      "cell_type": "code",
      "source": [
        "train_data = pd.read_csv('/content/drive/MyDrive/BMI707 EPI290_Project/trainData.csv')\n",
        "\n",
        "test_data = pd.read_csv('/content/drive/MyDrive/BMI707 EPI290_Project/testData.csv')\n",
        "print(train_data.shape)\n",
        "print(test_data.shape)"
      ],
      "metadata": {
        "id": "55B0gMON_mT1",
        "colab": {
          "base_uri": "https://localhost:8080/"
        },
        "outputId": "91b720c2-d0b9-4d0a-c22c-2d26fa76a912"
      },
      "execution_count": 5,
      "outputs": [
        {
          "output_type": "stream",
          "name": "stdout",
          "text": [
            "(702, 36)\n",
            "(301, 36)\n"
          ]
        }
      ]
    },
    {
      "cell_type": "code",
      "source": [
        "X_train = train_data.loc[:,train_data.columns != \"lnLTL\"]\n",
        "Y_train = train_data['lnLTL']\n",
        "\n",
        "X_test = test_data.loc[:,train_data.columns != \"lnLTL\"]\n",
        "Y_test = test_data['lnLTL']"
      ],
      "metadata": {
        "id": "cV9DosgPJJEC"
      },
      "execution_count": 6,
      "outputs": []
    },
    {
      "cell_type": "code",
      "source": [
        "from tensorflow.keras.models import Sequential\n",
        "from tensorflow.keras.layers import Dense\n",
        "from tensorflow.keras.layers import Dropout\n",
        "from tensorflow.keras.optimizers import SGD\n",
        "from tensorflow.keras.optimizers import Adam\n",
        "import tensorflow.keras.activations"
      ],
      "metadata": {
        "id": "eFss8PPiByhJ"
      },
      "execution_count": 11,
      "outputs": []
    },
    {
      "cell_type": "code",
      "source": [
        "N_EPOCHS = 100\n",
        "Batch_size = np.floor(train_data.shape[0]/10)\n",
        "Batch_size = int(Batch_size)"
      ],
      "metadata": {
        "id": "9pXTaY1lB8FT"
      },
      "execution_count": 21,
      "outputs": []
    },
    {
      "cell_type": "code",
      "source": [
        "model = Sequential()\n",
        "number_features = X_train.shape[1]\n",
        "model.add(Dense(units = 32, activation = 'relu', input_dim = number_features, name = 'hidden_layer'))\n",
        "model.add(Dense(units = 1, activation = 'linear', name = 'output_layer'))\n",
        "adma = Adam( learning_rate=0.001)\n",
        "model.compile(optimizer=\"adam\", loss = 'mean_squared_error')\n",
        "\n",
        "model_fit = model.fit(x = X_train,\n",
        "                      y = Y_train,\n",
        "                      batch_size = Batch_size,\n",
        "                      epochs = N_EPOCHS,\n",
        "                      validation_data= (X_test, Y_test))\n",
        "\n"
      ],
      "metadata": {
        "colab": {
          "base_uri": "https://localhost:8080/"
        },
        "id": "yo5VLyh1B-ps",
        "outputId": "f374fd40-16ab-4a2f-e7d0-f47ddf951795"
      },
      "execution_count": 12,
      "outputs": [
        {
          "output_type": "stream",
          "name": "stdout",
          "text": [
            "Epoch 1/100\n",
            "11/11 [==============================] - 1s 34ms/step - loss: 8.4021 - val_loss: 4.1478\n",
            "Epoch 2/100\n",
            "11/11 [==============================] - 0s 10ms/step - loss: 3.4852 - val_loss: 2.2131\n",
            "Epoch 3/100\n",
            "11/11 [==============================] - 0s 13ms/step - loss: 2.0966 - val_loss: 1.8512\n",
            "Epoch 4/100\n",
            "11/11 [==============================] - 0s 12ms/step - loss: 1.6886 - val_loss: 1.7050\n",
            "Epoch 5/100\n",
            "11/11 [==============================] - 0s 20ms/step - loss: 1.5010 - val_loss: 1.5436\n",
            "Epoch 6/100\n",
            "11/11 [==============================] - 0s 34ms/step - loss: 1.3315 - val_loss: 1.3883\n",
            "Epoch 7/100\n",
            "11/11 [==============================] - 0s 39ms/step - loss: 1.2169 - val_loss: 1.2778\n",
            "Epoch 8/100\n",
            "11/11 [==============================] - 0s 29ms/step - loss: 1.1453 - val_loss: 1.2091\n",
            "Epoch 9/100\n",
            "11/11 [==============================] - 0s 10ms/step - loss: 1.0885 - val_loss: 1.1684\n",
            "Epoch 10/100\n",
            "11/11 [==============================] - 0s 9ms/step - loss: 1.0390 - val_loss: 1.1483\n",
            "Epoch 11/100\n",
            "11/11 [==============================] - 0s 8ms/step - loss: 0.9945 - val_loss: 1.0954\n",
            "Epoch 12/100\n",
            "11/11 [==============================] - 0s 9ms/step - loss: 0.9594 - val_loss: 1.0725\n",
            "Epoch 13/100\n",
            "11/11 [==============================] - 0s 9ms/step - loss: 0.9290 - val_loss: 1.0374\n",
            "Epoch 14/100\n",
            "11/11 [==============================] - 0s 9ms/step - loss: 0.9104 - val_loss: 1.0109\n",
            "Epoch 15/100\n",
            "11/11 [==============================] - 0s 10ms/step - loss: 0.8856 - val_loss: 1.0065\n",
            "Epoch 16/100\n",
            "11/11 [==============================] - 0s 9ms/step - loss: 0.8674 - val_loss: 0.9990\n",
            "Epoch 17/100\n",
            "11/11 [==============================] - 0s 7ms/step - loss: 0.8515 - val_loss: 0.9902\n",
            "Epoch 18/100\n",
            "11/11 [==============================] - 0s 8ms/step - loss: 0.8381 - val_loss: 0.9816\n",
            "Epoch 19/100\n",
            "11/11 [==============================] - 0s 8ms/step - loss: 0.8279 - val_loss: 0.9695\n",
            "Epoch 20/100\n",
            "11/11 [==============================] - 0s 8ms/step - loss: 0.8171 - val_loss: 0.9681\n",
            "Epoch 21/100\n",
            "11/11 [==============================] - 0s 8ms/step - loss: 0.8127 - val_loss: 0.9900\n",
            "Epoch 22/100\n",
            "11/11 [==============================] - 0s 10ms/step - loss: 0.8057 - val_loss: 0.9643\n",
            "Epoch 23/100\n",
            "11/11 [==============================] - 0s 8ms/step - loss: 0.7879 - val_loss: 0.9499\n",
            "Epoch 24/100\n",
            "11/11 [==============================] - 0s 9ms/step - loss: 0.7768 - val_loss: 0.9388\n",
            "Epoch 25/100\n",
            "11/11 [==============================] - 0s 9ms/step - loss: 0.7680 - val_loss: 0.9403\n",
            "Epoch 26/100\n",
            "11/11 [==============================] - 0s 8ms/step - loss: 0.7642 - val_loss: 0.9316\n",
            "Epoch 27/100\n",
            "11/11 [==============================] - 0s 9ms/step - loss: 0.7666 - val_loss: 0.9526\n",
            "Epoch 28/100\n",
            "11/11 [==============================] - 0s 9ms/step - loss: 0.7533 - val_loss: 0.9362\n",
            "Epoch 29/100\n",
            "11/11 [==============================] - 0s 8ms/step - loss: 0.7457 - val_loss: 0.9208\n",
            "Epoch 30/100\n",
            "11/11 [==============================] - 0s 9ms/step - loss: 0.7407 - val_loss: 0.9115\n",
            "Epoch 31/100\n",
            "11/11 [==============================] - 0s 9ms/step - loss: 0.7299 - val_loss: 0.9246\n",
            "Epoch 32/100\n",
            "11/11 [==============================] - 0s 8ms/step - loss: 0.7291 - val_loss: 0.9039\n",
            "Epoch 33/100\n",
            "11/11 [==============================] - 0s 8ms/step - loss: 0.7202 - val_loss: 0.9008\n",
            "Epoch 34/100\n",
            "11/11 [==============================] - 0s 8ms/step - loss: 0.7160 - val_loss: 0.8961\n",
            "Epoch 35/100\n",
            "11/11 [==============================] - 0s 8ms/step - loss: 0.7101 - val_loss: 0.9020\n",
            "Epoch 36/100\n",
            "11/11 [==============================] - 0s 8ms/step - loss: 0.7233 - val_loss: 0.8971\n",
            "Epoch 37/100\n",
            "11/11 [==============================] - 0s 9ms/step - loss: 0.7198 - val_loss: 0.9061\n",
            "Epoch 38/100\n",
            "11/11 [==============================] - 0s 8ms/step - loss: 0.7203 - val_loss: 0.8908\n",
            "Epoch 39/100\n",
            "11/11 [==============================] - 0s 8ms/step - loss: 0.7020 - val_loss: 0.9135\n",
            "Epoch 40/100\n",
            "11/11 [==============================] - 0s 8ms/step - loss: 0.6958 - val_loss: 0.9003\n",
            "Epoch 41/100\n",
            "11/11 [==============================] - 0s 9ms/step - loss: 0.6985 - val_loss: 0.9109\n",
            "Epoch 42/100\n",
            "11/11 [==============================] - 0s 10ms/step - loss: 0.7352 - val_loss: 0.9194\n",
            "Epoch 43/100\n",
            "11/11 [==============================] - 0s 9ms/step - loss: 0.6993 - val_loss: 0.9055\n",
            "Epoch 44/100\n",
            "11/11 [==============================] - 0s 8ms/step - loss: 0.7037 - val_loss: 0.8964\n",
            "Epoch 45/100\n",
            "11/11 [==============================] - 0s 8ms/step - loss: 0.6907 - val_loss: 0.8972\n",
            "Epoch 46/100\n",
            "11/11 [==============================] - 0s 11ms/step - loss: 0.6848 - val_loss: 0.8881\n",
            "Epoch 47/100\n",
            "11/11 [==============================] - 0s 10ms/step - loss: 0.6823 - val_loss: 0.8768\n",
            "Epoch 48/100\n",
            "11/11 [==============================] - 0s 9ms/step - loss: 0.6864 - val_loss: 0.8936\n",
            "Epoch 49/100\n",
            "11/11 [==============================] - 0s 7ms/step - loss: 0.6777 - val_loss: 0.8853\n",
            "Epoch 50/100\n",
            "11/11 [==============================] - 0s 5ms/step - loss: 0.6749 - val_loss: 0.8974\n",
            "Epoch 51/100\n",
            "11/11 [==============================] - 0s 7ms/step - loss: 0.6707 - val_loss: 0.9014\n",
            "Epoch 52/100\n",
            "11/11 [==============================] - 0s 6ms/step - loss: 0.6680 - val_loss: 0.8973\n",
            "Epoch 53/100\n",
            "11/11 [==============================] - 0s 5ms/step - loss: 0.6670 - val_loss: 0.8902\n",
            "Epoch 54/100\n",
            "11/11 [==============================] - 0s 6ms/step - loss: 0.6712 - val_loss: 0.8845\n",
            "Epoch 55/100\n",
            "11/11 [==============================] - 0s 5ms/step - loss: 0.6712 - val_loss: 0.9064\n",
            "Epoch 56/100\n",
            "11/11 [==============================] - 0s 6ms/step - loss: 0.6703 - val_loss: 0.8832\n",
            "Epoch 57/100\n",
            "11/11 [==============================] - 0s 5ms/step - loss: 0.6626 - val_loss: 0.8782\n",
            "Epoch 58/100\n",
            "11/11 [==============================] - 0s 8ms/step - loss: 0.6619 - val_loss: 0.8812\n",
            "Epoch 59/100\n",
            "11/11 [==============================] - 0s 5ms/step - loss: 0.6694 - val_loss: 0.8896\n",
            "Epoch 60/100\n",
            "11/11 [==============================] - 0s 7ms/step - loss: 0.6583 - val_loss: 0.8903\n",
            "Epoch 61/100\n",
            "11/11 [==============================] - 0s 6ms/step - loss: 0.6552 - val_loss: 0.8943\n",
            "Epoch 62/100\n",
            "11/11 [==============================] - 0s 6ms/step - loss: 0.6583 - val_loss: 0.9119\n",
            "Epoch 63/100\n",
            "11/11 [==============================] - 0s 6ms/step - loss: 0.6676 - val_loss: 0.9070\n",
            "Epoch 64/100\n",
            "11/11 [==============================] - 0s 6ms/step - loss: 0.6598 - val_loss: 0.8986\n",
            "Epoch 65/100\n",
            "11/11 [==============================] - 0s 7ms/step - loss: 0.6525 - val_loss: 0.9059\n",
            "Epoch 66/100\n",
            "11/11 [==============================] - 0s 5ms/step - loss: 0.6463 - val_loss: 0.8895\n",
            "Epoch 67/100\n",
            "11/11 [==============================] - 0s 8ms/step - loss: 0.6515 - val_loss: 0.9114\n",
            "Epoch 68/100\n",
            "11/11 [==============================] - 0s 6ms/step - loss: 0.6449 - val_loss: 0.8920\n",
            "Epoch 69/100\n",
            "11/11 [==============================] - 0s 8ms/step - loss: 0.6447 - val_loss: 0.8890\n",
            "Epoch 70/100\n",
            "11/11 [==============================] - 0s 5ms/step - loss: 0.6570 - val_loss: 0.9153\n",
            "Epoch 71/100\n",
            "11/11 [==============================] - 0s 6ms/step - loss: 0.6458 - val_loss: 0.8923\n",
            "Epoch 72/100\n",
            "11/11 [==============================] - 0s 6ms/step - loss: 0.6477 - val_loss: 0.8884\n",
            "Epoch 73/100\n",
            "11/11 [==============================] - 0s 7ms/step - loss: 0.6407 - val_loss: 0.9144\n",
            "Epoch 74/100\n",
            "11/11 [==============================] - 0s 8ms/step - loss: 0.6645 - val_loss: 0.8980\n",
            "Epoch 75/100\n",
            "11/11 [==============================] - 0s 6ms/step - loss: 0.6498 - val_loss: 0.9072\n",
            "Epoch 76/100\n",
            "11/11 [==============================] - 0s 6ms/step - loss: 0.6676 - val_loss: 0.9146\n",
            "Epoch 77/100\n",
            "11/11 [==============================] - 0s 6ms/step - loss: 0.6420 - val_loss: 0.8915\n",
            "Epoch 78/100\n",
            "11/11 [==============================] - 0s 6ms/step - loss: 0.6401 - val_loss: 0.8985\n",
            "Epoch 79/100\n",
            "11/11 [==============================] - 0s 6ms/step - loss: 0.6369 - val_loss: 0.9024\n",
            "Epoch 80/100\n",
            "11/11 [==============================] - 0s 8ms/step - loss: 0.6379 - val_loss: 0.9236\n",
            "Epoch 81/100\n",
            "11/11 [==============================] - 0s 7ms/step - loss: 0.6369 - val_loss: 0.8913\n",
            "Epoch 82/100\n",
            "11/11 [==============================] - 0s 6ms/step - loss: 0.6380 - val_loss: 0.8871\n",
            "Epoch 83/100\n",
            "11/11 [==============================] - 0s 6ms/step - loss: 0.6296 - val_loss: 0.8957\n",
            "Epoch 84/100\n",
            "11/11 [==============================] - 0s 6ms/step - loss: 0.6247 - val_loss: 0.8909\n",
            "Epoch 85/100\n",
            "11/11 [==============================] - 0s 7ms/step - loss: 0.6453 - val_loss: 0.8903\n",
            "Epoch 86/100\n",
            "11/11 [==============================] - 0s 7ms/step - loss: 0.6448 - val_loss: 0.9255\n",
            "Epoch 87/100\n",
            "11/11 [==============================] - 0s 7ms/step - loss: 0.6367 - val_loss: 0.8933\n",
            "Epoch 88/100\n",
            "11/11 [==============================] - 0s 6ms/step - loss: 0.6355 - val_loss: 0.9243\n",
            "Epoch 89/100\n",
            "11/11 [==============================] - 0s 6ms/step - loss: 0.6263 - val_loss: 0.8996\n",
            "Epoch 90/100\n",
            "11/11 [==============================] - 0s 6ms/step - loss: 0.6219 - val_loss: 0.9031\n",
            "Epoch 91/100\n",
            "11/11 [==============================] - 0s 7ms/step - loss: 0.6188 - val_loss: 0.9035\n",
            "Epoch 92/100\n",
            "11/11 [==============================] - 0s 7ms/step - loss: 0.7092 - val_loss: 0.9209\n",
            "Epoch 93/100\n",
            "11/11 [==============================] - 0s 8ms/step - loss: 0.6436 - val_loss: 0.9888\n",
            "Epoch 94/100\n",
            "11/11 [==============================] - 0s 7ms/step - loss: 0.6513 - val_loss: 0.8949\n",
            "Epoch 95/100\n",
            "11/11 [==============================] - 0s 6ms/step - loss: 0.6282 - val_loss: 0.9013\n",
            "Epoch 96/100\n",
            "11/11 [==============================] - 0s 7ms/step - loss: 0.6337 - val_loss: 0.8995\n",
            "Epoch 97/100\n",
            "11/11 [==============================] - 0s 6ms/step - loss: 0.6472 - val_loss: 0.9591\n",
            "Epoch 98/100\n",
            "11/11 [==============================] - 0s 5ms/step - loss: 0.6297 - val_loss: 0.8980\n",
            "Epoch 99/100\n",
            "11/11 [==============================] - 0s 6ms/step - loss: 0.6246 - val_loss: 0.9273\n",
            "Epoch 100/100\n",
            "11/11 [==============================] - 0s 6ms/step - loss: 0.6254 - val_loss: 0.9229\n"
          ]
        }
      ]
    },
    {
      "cell_type": "code",
      "source": [
        "plt.plot(model_fit.history['loss'], label='loss in the training data')\n",
        "plt.plot(model_fit.history['val_loss'], label = 'loss in the test data')\n",
        "plt.legend()\n",
        "plt.savefig('/content/drive/MyDrive/BMI707 EPI290_Project/trace_curve_MLP_0420.png')"
      ],
      "metadata": {
        "colab": {
          "base_uri": "https://localhost:8080/",
          "height": 430
        },
        "id": "NQmIND_oOO89",
        "outputId": "80c2ded9-a8c5-4d9b-d964-1bd736978c2d"
      },
      "execution_count": 14,
      "outputs": [
        {
          "output_type": "display_data",
          "data": {
            "text/plain": [
              "<Figure size 640x480 with 1 Axes>"
            ],
            "image/png": "[encoded data removed]"
          },
          "metadata": {}
        }
      ]
    },
    {
      "cell_type": "code",
      "source": [
        "Y_test"
      ],
      "metadata": {
        "colab": {
          "base_uri": "https://localhost:8080/"
        },
        "id": "4Aw6sY4fLo0q",
        "outputId": "5db996ca-554e-4d65-a310-c127c52b95f9"
      },
      "execution_count": null,
      "outputs": [
        {
          "output_type": "execute_result",
          "data": {
            "text/plain": [
              "0     -1.519608\n",
              "1     -0.633938\n",
              "2     -0.894164\n",
              "3     -0.701467\n",
              "4     -0.259646\n",
              "         ...   \n",
              "296    1.062848\n",
              "297    0.674048\n",
              "298    0.254414\n",
              "299   -0.494072\n",
              "300   -1.061914\n",
              "Name: lnLTL, Length: 301, dtype: float64"
            ]
          },
          "metadata": {},
          "execution_count": 37
        }
      ]
    },
    {
      "cell_type": "markdown",
      "source": [
        "## Simple linear regression\n"
      ],
      "metadata": {
        "id": "e_d3bCeWOR8u"
      }
    },
    {
      "cell_type": "code",
      "source": [
        "from sklearn.linear_model import LinearRegression\n",
        "model_lin = LinearRegression().fit(X_train, Y_train)\n",
        "Y_test_predict = model_lin.predict(X_test)\n",
        "\n",
        "from sklearn.metrics import mean_squared_error\n",
        "\n",
        "mean_squared_error(Y_test,Y_test_predict)"
      ],
      "metadata": {
        "colab": {
          "base_uri": "https://localhost:8080/"
        },
        "id": "bIphnwAmMQ-P",
        "outputId": "1241f374-8376-4ed1-e1a9-e32305ca5938"
      },
      "execution_count": 16,
      "outputs": [
        {
          "output_type": "execute_result",
          "data": {
            "text/plain": [
              "0.8463993921856553"
            ]
          },
          "metadata": {},
          "execution_count": 16
        }
      ]
    },
    {
      "cell_type": "markdown",
      "source": [
        "## Lasso"
      ],
      "metadata": {
        "id": "1O65w9L_OraG"
      }
    },
    {
      "cell_type": "code",
      "source": [
        "from sklearn.linear_model import LassoCV\n",
        "model_lasso = LassoCV(cv = 10).fit(X_train, Y_train)\n",
        "Y_test_predict = model_lasso.predict(X_test)\n",
        "mean_squared_error(Y_test,Y_test_predict)\n"
      ],
      "metadata": {
        "colab": {
          "base_uri": "https://localhost:8080/"
        },
        "id": "bxsRWGiHOsjA",
        "outputId": "2e7801f3-29c9-498a-86e4-5d1d83356543"
      },
      "execution_count": 17,
      "outputs": [
        {
          "output_type": "execute_result",
          "data": {
            "text/plain": [
              "0.8184916175771791"
            ]
          },
          "metadata": {},
          "execution_count": 17
        }
      ]
    },
    {
      "cell_type": "markdown",
      "source": [
        "## Random Forest"
      ],
      "metadata": {
        "id": "yvy01vpxQXzA"
      }
    },
    {
      "cell_type": "code",
      "source": [
        "from sklearn.ensemble import RandomForestRegressor\n",
        "\n",
        "rf = RandomForestRegressor(n_estimators=1000,\n",
        "                           max_depth=3, random_state=1,\n",
        "                           max_features = None).fit(X_train, Y_train)\n",
        "Y_test_predict = rf.predict(X_test)\n",
        "mean_squared_error(Y_test,Y_test_predict)\n"
      ],
      "metadata": {
        "colab": {
          "base_uri": "https://localhost:8080/"
        },
        "id": "0owDHiONQXQh",
        "outputId": "ab05b4d7-2f48-4ea2-efb8-6a67f767d8a0"
      },
      "execution_count": 18,
      "outputs": [
        {
          "output_type": "execute_result",
          "data": {
            "text/plain": [
              "0.8522568843699405"
            ]
          },
          "metadata": {},
          "execution_count": 18
        }
      ]
    },
    {
      "cell_type": "code",
      "source": [
        "from sklearn.model_selection import GridSearchCV\n",
        "param_grid = {\n",
        "    'n_estimators': [100, 500, 1000],\n",
        "    'max_depth': [3, 6, 9],\n",
        "    'max_features': ['sqrt', 'log2', None]\n",
        "}\n",
        "\n",
        "\n",
        "grid_search = GridSearchCV(RandomForestRegressor(),\n",
        "                           param_grid=param_grid)\n",
        "grid_search.fit(X_train, Y_train)\n",
        "print(grid_search.best_estimator_)"
      ],
      "metadata": {
        "colab": {
          "base_uri": "https://localhost:8080/",
          "height": 364
        },
        "id": "9w1kzB8VZFi-",
        "outputId": "c2df243c-5474-43fd-e538-67783633530e"
      },
      "execution_count": 19,
      "outputs": [
        {
          "output_type": "error",
          "ename": "KeyboardInterrupt",
          "evalue": "ignored",
          "traceback": [
            "\u001b[0;31m---------------------------------------------------------------------------\u001b[0m",
            "\u001b[0;31mKeyboardInterrupt\u001b[0m                         Traceback (most recent call last)",
            "\u001b[0;32m<ipython-input-19-29c6267d8c9f>\u001b[0m in \u001b[0;36m<cell line: 11>\u001b[0;34m()\u001b[0m\n\u001b[1;32m      9\u001b[0m grid_search = GridSearchCV(RandomForestRegressor(),\n\u001b[1;32m     10\u001b[0m                            param_grid=param_grid)\n\u001b[0;32m---> 11\u001b[0;31m \u001b[0mgrid_search\u001b[0m\u001b[0;34m.\u001b[0m\u001b[0mfit\u001b[0m\u001b[0;34m(\u001b[0m\u001b[0mX_train\u001b[0m\u001b[0;34m,\u001b[0m \u001b[0mY_train\u001b[0m\u001b[0;34m)\u001b[0m\u001b[0;34m\u001b[0m\u001b[0;34m\u001b[0m\u001b[0m\n\u001b[0m\u001b[1;32m     12\u001b[0m \u001b[0mprint\u001b[0m\u001b[0;34m(\u001b[0m\u001b[0mgrid_search\u001b[0m\u001b[0;34m.\u001b[0m\u001b[0mbest_estimator_\u001b[0m\u001b[0;34m)\u001b[0m\u001b[0;34m\u001b[0m\u001b[0;34m\u001b[0m\u001b[0m\n",
            "\u001b[0;32m/usr/local/lib/python3.9/dist-packages/sklearn/model_selection/_search.py\u001b[0m in \u001b[0;36mfit\u001b[0;34m(self, X, y, groups, **fit_params)\u001b[0m\n\u001b[1;32m    872\u001b[0m                 \u001b[0;32mreturn\u001b[0m \u001b[0mresults\u001b[0m\u001b[0;34m\u001b[0m\u001b[0;34m\u001b[0m\u001b[0m\n\u001b[1;32m    873\u001b[0m \u001b[0;34m\u001b[0m\u001b[0m\n\u001b[0;32m--> 874\u001b[0;31m             \u001b[0mself\u001b[0m\u001b[0;34m.\u001b[0m\u001b[0m_run_search\u001b[0m\u001b[0;34m(\u001b[0m\u001b[0mevaluate_candidates\u001b[0m\u001b[0;34m)\u001b[0m\u001b[0;34m\u001b[0m\u001b[0;34m\u001b[0m\u001b[0m\n\u001b[0m\u001b[1;32m    875\u001b[0m \u001b[0;34m\u001b[0m\u001b[0m\n\u001b[1;32m    876\u001b[0m             \u001b[0;31m# multimetric is determined here because in the case of a callable\u001b[0m\u001b[0;34m\u001b[0m\u001b[0;34m\u001b[0m\u001b[0m\n",
            "\u001b[0;32m/usr/local/lib/python3.9/dist-packages/sklearn/model_selection/_search.py\u001b[0m in \u001b[0;36m_run_search\u001b[0;34m(self, evaluate_candidates)\u001b[0m\n\u001b[1;32m   1386\u001b[0m     \u001b[0;32mdef\u001b[0m \u001b[0m_run_search\u001b[0m\u001b[0;34m(\u001b[0m\u001b[0mself\u001b[0m\u001b[0;34m,\u001b[0m \u001b[0mevaluate_candidates\u001b[0m\u001b[0;34m)\u001b[0m\u001b[0;34m:\u001b[0m\u001b[0;34m\u001b[0m\u001b[0;34m\u001b[0m\u001b[0m\n\u001b[1;32m   1387\u001b[0m         \u001b[0;34m\"\"\"Search all candidates in param_grid\"\"\"\u001b[0m\u001b[0;34m\u001b[0m\u001b[0;34m\u001b[0m\u001b[0m\n\u001b[0;32m-> 1388\u001b[0;31m         \u001b[0mevaluate_candidates\u001b[0m\u001b[0;34m(\u001b[0m\u001b[0mParameterGrid\u001b[0m\u001b[0;34m(\u001b[0m\u001b[0mself\u001b[0m\u001b[0;34m.\u001b[0m\u001b[0mparam_grid\u001b[0m\u001b[0;34m)\u001b[0m\u001b[0;34m)\u001b[0m\u001b[0;34m\u001b[0m\u001b[0;34m\u001b[0m\u001b[0m\n\u001b[0m\u001b[1;32m   1389\u001b[0m \u001b[0;34m\u001b[0m\u001b[0m\n\u001b[1;32m   1390\u001b[0m \u001b[0;34m\u001b[0m\u001b[0m\n",
            "\u001b[0;32m/usr/local/lib/python3.9/dist-packages/sklearn/model_selection/_search.py\u001b[0m in \u001b[0;36mevaluate_candidates\u001b[0;34m(candidate_params, cv, more_results)\u001b[0m\n\u001b[1;32m    819\u001b[0m                     )\n\u001b[1;32m    820\u001b[0m \u001b[0;34m\u001b[0m\u001b[0m\n\u001b[0;32m--> 821\u001b[0;31m                 out = parallel(\n\u001b[0m\u001b[1;32m    822\u001b[0m                     delayed(_fit_and_score)(\n\u001b[1;32m    823\u001b[0m                         \u001b[0mclone\u001b[0m\u001b[0;34m(\u001b[0m\u001b[0mbase_estimator\u001b[0m\u001b[0;34m)\u001b[0m\u001b[0;34m,\u001b[0m\u001b[0;34m\u001b[0m\u001b[0;34m\u001b[0m\u001b[0m\n",
            "\u001b[0;32m/usr/local/lib/python3.9/dist-packages/sklearn/utils/parallel.py\u001b[0m in \u001b[0;36m__call__\u001b[0;34m(self, iterable)\u001b[0m\n\u001b[1;32m     61\u001b[0m             \u001b[0;32mfor\u001b[0m \u001b[0mdelayed_func\u001b[0m\u001b[0;34m,\u001b[0m \u001b[0margs\u001b[0m\u001b[0;34m,\u001b[0m \u001b[0mkwargs\u001b[0m \u001b[0;32min\u001b[0m \u001b[0miterable\u001b[0m\u001b[0;34m\u001b[0m\u001b[0;34m\u001b[0m\u001b[0m\n\u001b[1;32m     62\u001b[0m         )\n\u001b[0;32m---> 63\u001b[0;31m         \u001b[0;32mreturn\u001b[0m \u001b[0msuper\u001b[0m\u001b[0;34m(\u001b[0m\u001b[0;34m)\u001b[0m\u001b[0;34m.\u001b[0m\u001b[0m__call__\u001b[0m\u001b[0;34m(\u001b[0m\u001b[0miterable_with_config\u001b[0m\u001b[0;34m)\u001b[0m\u001b[0;34m\u001b[0m\u001b[0;34m\u001b[0m\u001b[0m\n\u001b[0m\u001b[1;32m     64\u001b[0m \u001b[0;34m\u001b[0m\u001b[0m\n\u001b[1;32m     65\u001b[0m \u001b[0;34m\u001b[0m\u001b[0m\n",
            "\u001b[0;32m/usr/local/lib/python3.9/dist-packages/joblib/parallel.py\u001b[0m in \u001b[0;36m__call__\u001b[0;34m(self, iterable)\u001b[0m\n\u001b[1;32m   1086\u001b[0m                 \u001b[0mself\u001b[0m\u001b[0;34m.\u001b[0m\u001b[0m_iterating\u001b[0m \u001b[0;34m=\u001b[0m \u001b[0mself\u001b[0m\u001b[0;34m.\u001b[0m\u001b[0m_original_iterator\u001b[0m \u001b[0;32mis\u001b[0m \u001b[0;32mnot\u001b[0m \u001b[0;32mNone\u001b[0m\u001b[0;34m\u001b[0m\u001b[0;34m\u001b[0m\u001b[0m\n\u001b[1;32m   1087\u001b[0m \u001b[0;34m\u001b[0m\u001b[0m\n\u001b[0;32m-> 1088\u001b[0;31m             \u001b[0;32mwhile\u001b[0m \u001b[0mself\u001b[0m\u001b[0;34m.\u001b[0m\u001b[0mdispatch_one_batch\u001b[0m\u001b[0;34m(\u001b[0m\u001b[0miterator\u001b[0m\u001b[0;34m)\u001b[0m\u001b[0;34m:\u001b[0m\u001b[0;34m\u001b[0m\u001b[0;34m\u001b[0m\u001b[0m\n\u001b[0m\u001b[1;32m   1089\u001b[0m                 \u001b[0;32mpass\u001b[0m\u001b[0;34m\u001b[0m\u001b[0;34m\u001b[0m\u001b[0m\n\u001b[1;32m   1090\u001b[0m \u001b[0;34m\u001b[0m\u001b[0m\n",
            "\u001b[0;32m/usr/local/lib/python3.9/dist-packages/joblib/parallel.py\u001b[0m in \u001b[0;36mdispatch_one_batch\u001b[0;34m(self, iterator)\u001b[0m\n\u001b[1;32m    899\u001b[0m                 \u001b[0;32mreturn\u001b[0m \u001b[0;32mFalse\u001b[0m\u001b[0;34m\u001b[0m\u001b[0;34m\u001b[0m\u001b[0m\n\u001b[1;32m    900\u001b[0m             \u001b[0;32melse\u001b[0m\u001b[0;34m:\u001b[0m\u001b[0;34m\u001b[0m\u001b[0;34m\u001b[0m\u001b[0m\n\u001b[0;32m--> 901\u001b[0;31m                 \u001b[0mself\u001b[0m\u001b[0;34m.\u001b[0m\u001b[0m_dispatch\u001b[0m\u001b[0;34m(\u001b[0m\u001b[0mtasks\u001b[0m\u001b[0;34m)\u001b[0m\u001b[0;34m\u001b[0m\u001b[0;34m\u001b[0m\u001b[0m\n\u001b[0m\u001b[1;32m    902\u001b[0m                 \u001b[0;32mreturn\u001b[0m \u001b[0;32mTrue\u001b[0m\u001b[0;34m\u001b[0m\u001b[0;34m\u001b[0m\u001b[0m\n\u001b[1;32m    903\u001b[0m \u001b[0;34m\u001b[0m\u001b[0m\n",
            "\u001b[0;32m/usr/local/lib/python3.9/dist-packages/joblib/parallel.py\u001b[0m in \u001b[0;36m_dispatch\u001b[0;34m(self, batch)\u001b[0m\n\u001b[1;32m    817\u001b[0m         \u001b[0;32mwith\u001b[0m \u001b[0mself\u001b[0m\u001b[0;34m.\u001b[0m\u001b[0m_lock\u001b[0m\u001b[0;34m:\u001b[0m\u001b[0;34m\u001b[0m\u001b[0;34m\u001b[0m\u001b[0m\n\u001b[1;32m    818\u001b[0m             \u001b[0mjob_idx\u001b[0m \u001b[0;34m=\u001b[0m \u001b[0mlen\u001b[0m\u001b[0;34m(\u001b[0m\u001b[0mself\u001b[0m\u001b[0;34m.\u001b[0m\u001b[0m_jobs\u001b[0m\u001b[0;34m)\u001b[0m\u001b[0;34m\u001b[0m\u001b[0;34m\u001b[0m\u001b[0m\n\u001b[0;32m--> 819\u001b[0;31m             \u001b[0mjob\u001b[0m \u001b[0;34m=\u001b[0m \u001b[0mself\u001b[0m\u001b[0;34m.\u001b[0m\u001b[0m_backend\u001b[0m\u001b[0;34m.\u001b[0m\u001b[0mapply_async\u001b[0m\u001b[0;34m(\u001b[0m\u001b[0mbatch\u001b[0m\u001b[0;34m,\u001b[0m \u001b[0mcallback\u001b[0m\u001b[0;34m=\u001b[0m\u001b[0mcb\u001b[0m\u001b[0;34m)\u001b[0m\u001b[0;34m\u001b[0m\u001b[0;34m\u001b[0m\u001b[0m\n\u001b[0m\u001b[1;32m    820\u001b[0m             \u001b[0;31m# A job can complete so quickly than its callback is\u001b[0m\u001b[0;34m\u001b[0m\u001b[0;34m\u001b[0m\u001b[0m\n\u001b[1;32m    821\u001b[0m             \u001b[0;31m# called before we get here, causing self._jobs to\u001b[0m\u001b[0;34m\u001b[0m\u001b[0;34m\u001b[0m\u001b[0m\n",
            "\u001b[0;32m/usr/local/lib/python3.9/dist-packages/joblib/_parallel_backends.py\u001b[0m in \u001b[0;36mapply_async\u001b[0;34m(self, func, callback)\u001b[0m\n\u001b[1;32m    206\u001b[0m     \u001b[0;32mdef\u001b[0m \u001b[0mapply_async\u001b[0m\u001b[0;34m(\u001b[0m\u001b[0mself\u001b[0m\u001b[0;34m,\u001b[0m \u001b[0mfunc\u001b[0m\u001b[0;34m,\u001b[0m \u001b[0mcallback\u001b[0m\u001b[0;34m=\u001b[0m\u001b[0;32mNone\u001b[0m\u001b[0;34m)\u001b[0m\u001b[0;34m:\u001b[0m\u001b[0;34m\u001b[0m\u001b[0;34m\u001b[0m\u001b[0m\n\u001b[1;32m    207\u001b[0m         \u001b[0;34m\"\"\"Schedule a func to be run\"\"\"\u001b[0m\u001b[0;34m\u001b[0m\u001b[0;34m\u001b[0m\u001b[0m\n\u001b[0;32m--> 208\u001b[0;31m         \u001b[0mresult\u001b[0m \u001b[0;34m=\u001b[0m \u001b[0mImmediateResult\u001b[0m\u001b[0;34m(\u001b[0m\u001b[0mfunc\u001b[0m\u001b[0;34m)\u001b[0m\u001b[0;34m\u001b[0m\u001b[0;34m\u001b[0m\u001b[0m\n\u001b[0m\u001b[1;32m    209\u001b[0m         \u001b[0;32mif\u001b[0m \u001b[0mcallback\u001b[0m\u001b[0;34m:\u001b[0m\u001b[0;34m\u001b[0m\u001b[0;34m\u001b[0m\u001b[0m\n\u001b[1;32m    210\u001b[0m             \u001b[0mcallback\u001b[0m\u001b[0;34m(\u001b[0m\u001b[0mresult\u001b[0m\u001b[0;34m)\u001b[0m\u001b[0;34m\u001b[0m\u001b[0;34m\u001b[0m\u001b[0m\n",
            "\u001b[0;32m/usr/local/lib/python3.9/dist-packages/joblib/_parallel_backends.py\u001b[0m in \u001b[0;36m__init__\u001b[0;34m(self, batch)\u001b[0m\n\u001b[1;32m    595\u001b[0m         \u001b[0;31m# Don't delay the application, to avoid keeping the input\u001b[0m\u001b[0;34m\u001b[0m\u001b[0;34m\u001b[0m\u001b[0m\n\u001b[1;32m    596\u001b[0m         \u001b[0;31m# arguments in memory\u001b[0m\u001b[0;34m\u001b[0m\u001b[0;34m\u001b[0m\u001b[0m\n\u001b[0;32m--> 597\u001b[0;31m         \u001b[0mself\u001b[0m\u001b[0;34m.\u001b[0m\u001b[0mresults\u001b[0m \u001b[0;34m=\u001b[0m \u001b[0mbatch\u001b[0m\u001b[0;34m(\u001b[0m\u001b[0;34m)\u001b[0m\u001b[0;34m\u001b[0m\u001b[0;34m\u001b[0m\u001b[0m\n\u001b[0m\u001b[1;32m    598\u001b[0m \u001b[0;34m\u001b[0m\u001b[0m\n\u001b[1;32m    599\u001b[0m     \u001b[0;32mdef\u001b[0m \u001b[0mget\u001b[0m\u001b[0;34m(\u001b[0m\u001b[0mself\u001b[0m\u001b[0;34m)\u001b[0m\u001b[0;34m:\u001b[0m\u001b[0;34m\u001b[0m\u001b[0;34m\u001b[0m\u001b[0m\n",
            "\u001b[0;32m/usr/local/lib/python3.9/dist-packages/joblib/parallel.py\u001b[0m in \u001b[0;36m__call__\u001b[0;34m(self)\u001b[0m\n\u001b[1;32m    286\u001b[0m         \u001b[0;31m# change the default number of processes to -1\u001b[0m\u001b[0;34m\u001b[0m\u001b[0;34m\u001b[0m\u001b[0m\n\u001b[1;32m    287\u001b[0m         \u001b[0;32mwith\u001b[0m \u001b[0mparallel_backend\u001b[0m\u001b[0;34m(\u001b[0m\u001b[0mself\u001b[0m\u001b[0;34m.\u001b[0m\u001b[0m_backend\u001b[0m\u001b[0;34m,\u001b[0m \u001b[0mn_jobs\u001b[0m\u001b[0;34m=\u001b[0m\u001b[0mself\u001b[0m\u001b[0;34m.\u001b[0m\u001b[0m_n_jobs\u001b[0m\u001b[0;34m)\u001b[0m\u001b[0;34m:\u001b[0m\u001b[0;34m\u001b[0m\u001b[0;34m\u001b[0m\u001b[0m\n\u001b[0;32m--> 288\u001b[0;31m             return [func(*args, **kwargs)\n\u001b[0m\u001b[1;32m    289\u001b[0m                     for func, args, kwargs in self.items]\n\u001b[1;32m    290\u001b[0m \u001b[0;34m\u001b[0m\u001b[0m\n",
            "\u001b[0;32m/usr/local/lib/python3.9/dist-packages/joblib/parallel.py\u001b[0m in \u001b[0;36m<listcomp>\u001b[0;34m(.0)\u001b[0m\n\u001b[1;32m    286\u001b[0m         \u001b[0;31m# change the default number of processes to -1\u001b[0m\u001b[0;34m\u001b[0m\u001b[0;34m\u001b[0m\u001b[0m\n\u001b[1;32m    287\u001b[0m         \u001b[0;32mwith\u001b[0m \u001b[0mparallel_backend\u001b[0m\u001b[0;34m(\u001b[0m\u001b[0mself\u001b[0m\u001b[0;34m.\u001b[0m\u001b[0m_backend\u001b[0m\u001b[0;34m,\u001b[0m \u001b[0mn_jobs\u001b[0m\u001b[0;34m=\u001b[0m\u001b[0mself\u001b[0m\u001b[0;34m.\u001b[0m\u001b[0m_n_jobs\u001b[0m\u001b[0;34m)\u001b[0m\u001b[0;34m:\u001b[0m\u001b[0;34m\u001b[0m\u001b[0;34m\u001b[0m\u001b[0m\n\u001b[0;32m--> 288\u001b[0;31m             return [func(*args, **kwargs)\n\u001b[0m\u001b[1;32m    289\u001b[0m                     for func, args, kwargs in self.items]\n\u001b[1;32m    290\u001b[0m \u001b[0;34m\u001b[0m\u001b[0m\n",
            "\u001b[0;32m/usr/local/lib/python3.9/dist-packages/sklearn/utils/parallel.py\u001b[0m in \u001b[0;36m__call__\u001b[0;34m(self, *args, **kwargs)\u001b[0m\n\u001b[1;32m    121\u001b[0m             \u001b[0mconfig\u001b[0m \u001b[0;34m=\u001b[0m \u001b[0;34m{\u001b[0m\u001b[0;34m}\u001b[0m\u001b[0;34m\u001b[0m\u001b[0;34m\u001b[0m\u001b[0m\n\u001b[1;32m    122\u001b[0m         \u001b[0;32mwith\u001b[0m \u001b[0mconfig_context\u001b[0m\u001b[0;34m(\u001b[0m\u001b[0;34m**\u001b[0m\u001b[0mconfig\u001b[0m\u001b[0;34m)\u001b[0m\u001b[0;34m:\u001b[0m\u001b[0;34m\u001b[0m\u001b[0;34m\u001b[0m\u001b[0m\n\u001b[0;32m--> 123\u001b[0;31m             \u001b[0;32mreturn\u001b[0m \u001b[0mself\u001b[0m\u001b[0;34m.\u001b[0m\u001b[0mfunction\u001b[0m\u001b[0;34m(\u001b[0m\u001b[0;34m*\u001b[0m\u001b[0margs\u001b[0m\u001b[0;34m,\u001b[0m \u001b[0;34m**\u001b[0m\u001b[0mkwargs\u001b[0m\u001b[0;34m)\u001b[0m\u001b[0;34m\u001b[0m\u001b[0;34m\u001b[0m\u001b[0m\n\u001b[0m",
            "\u001b[0;32m/usr/local/lib/python3.9/dist-packages/sklearn/model_selection/_validation.py\u001b[0m in \u001b[0;36m_fit_and_score\u001b[0;34m(estimator, X, y, scorer, train, test, verbose, parameters, fit_params, return_train_score, return_parameters, return_n_test_samples, return_times, return_estimator, split_progress, candidate_progress, error_score)\u001b[0m\n\u001b[1;32m    684\u001b[0m             \u001b[0mestimator\u001b[0m\u001b[0;34m.\u001b[0m\u001b[0mfit\u001b[0m\u001b[0;34m(\u001b[0m\u001b[0mX_train\u001b[0m\u001b[0;34m,\u001b[0m \u001b[0;34m**\u001b[0m\u001b[0mfit_params\u001b[0m\u001b[0;34m)\u001b[0m\u001b[0;34m\u001b[0m\u001b[0;34m\u001b[0m\u001b[0m\n\u001b[1;32m    685\u001b[0m         \u001b[0;32melse\u001b[0m\u001b[0;34m:\u001b[0m\u001b[0;34m\u001b[0m\u001b[0;34m\u001b[0m\u001b[0m\n\u001b[0;32m--> 686\u001b[0;31m             \u001b[0mestimator\u001b[0m\u001b[0;34m.\u001b[0m\u001b[0mfit\u001b[0m\u001b[0;34m(\u001b[0m\u001b[0mX_train\u001b[0m\u001b[0;34m,\u001b[0m \u001b[0my_train\u001b[0m\u001b[0;34m,\u001b[0m \u001b[0;34m**\u001b[0m\u001b[0mfit_params\u001b[0m\u001b[0;34m)\u001b[0m\u001b[0;34m\u001b[0m\u001b[0;34m\u001b[0m\u001b[0m\n\u001b[0m\u001b[1;32m    687\u001b[0m \u001b[0;34m\u001b[0m\u001b[0m\n\u001b[1;32m    688\u001b[0m     \u001b[0;32mexcept\u001b[0m \u001b[0mException\u001b[0m\u001b[0;34m:\u001b[0m\u001b[0;34m\u001b[0m\u001b[0;34m\u001b[0m\u001b[0m\n",
            "\u001b[0;32m/usr/local/lib/python3.9/dist-packages/sklearn/ensemble/_forest.py\u001b[0m in \u001b[0;36mfit\u001b[0;34m(self, X, y, sample_weight)\u001b[0m\n\u001b[1;32m    460\u001b[0m                 \u001b[0mrandom_state\u001b[0m\u001b[0;34m.\u001b[0m\u001b[0mrandint\u001b[0m\u001b[0;34m(\u001b[0m\u001b[0mMAX_INT\u001b[0m\u001b[0;34m,\u001b[0m \u001b[0msize\u001b[0m\u001b[0;34m=\u001b[0m\u001b[0mlen\u001b[0m\u001b[0;34m(\u001b[0m\u001b[0mself\u001b[0m\u001b[0;34m.\u001b[0m\u001b[0mestimators_\u001b[0m\u001b[0;34m)\u001b[0m\u001b[0;34m)\u001b[0m\u001b[0;34m\u001b[0m\u001b[0;34m\u001b[0m\u001b[0m\n\u001b[1;32m    461\u001b[0m \u001b[0;34m\u001b[0m\u001b[0m\n\u001b[0;32m--> 462\u001b[0;31m             trees = [\n\u001b[0m\u001b[1;32m    463\u001b[0m                 \u001b[0mself\u001b[0m\u001b[0;34m.\u001b[0m\u001b[0m_make_estimator\u001b[0m\u001b[0;34m(\u001b[0m\u001b[0mappend\u001b[0m\u001b[0;34m=\u001b[0m\u001b[0;32mFalse\u001b[0m\u001b[0;34m,\u001b[0m \u001b[0mrandom_state\u001b[0m\u001b[0;34m=\u001b[0m\u001b[0mrandom_state\u001b[0m\u001b[0;34m)\u001b[0m\u001b[0;34m\u001b[0m\u001b[0;34m\u001b[0m\u001b[0m\n\u001b[1;32m    464\u001b[0m                 \u001b[0;32mfor\u001b[0m \u001b[0mi\u001b[0m \u001b[0;32min\u001b[0m \u001b[0mrange\u001b[0m\u001b[0;34m(\u001b[0m\u001b[0mn_more_estimators\u001b[0m\u001b[0;34m)\u001b[0m\u001b[0;34m\u001b[0m\u001b[0;34m\u001b[0m\u001b[0m\n",
            "\u001b[0;32m/usr/local/lib/python3.9/dist-packages/sklearn/ensemble/_forest.py\u001b[0m in \u001b[0;36m<listcomp>\u001b[0;34m(.0)\u001b[0m\n\u001b[1;32m    461\u001b[0m \u001b[0;34m\u001b[0m\u001b[0m\n\u001b[1;32m    462\u001b[0m             trees = [\n\u001b[0;32m--> 463\u001b[0;31m                 \u001b[0mself\u001b[0m\u001b[0;34m.\u001b[0m\u001b[0m_make_estimator\u001b[0m\u001b[0;34m(\u001b[0m\u001b[0mappend\u001b[0m\u001b[0;34m=\u001b[0m\u001b[0;32mFalse\u001b[0m\u001b[0;34m,\u001b[0m \u001b[0mrandom_state\u001b[0m\u001b[0;34m=\u001b[0m\u001b[0mrandom_state\u001b[0m\u001b[0;34m)\u001b[0m\u001b[0;34m\u001b[0m\u001b[0;34m\u001b[0m\u001b[0m\n\u001b[0m\u001b[1;32m    464\u001b[0m                 \u001b[0;32mfor\u001b[0m \u001b[0mi\u001b[0m \u001b[0;32min\u001b[0m \u001b[0mrange\u001b[0m\u001b[0;34m(\u001b[0m\u001b[0mn_more_estimators\u001b[0m\u001b[0;34m)\u001b[0m\u001b[0;34m\u001b[0m\u001b[0;34m\u001b[0m\u001b[0m\n\u001b[1;32m    465\u001b[0m             ]\n",
            "\u001b[0;32m/usr/local/lib/python3.9/dist-packages/sklearn/ensemble/_base.py\u001b[0m in \u001b[0;36m_make_estimator\u001b[0;34m(self, append, random_state)\u001b[0m\n\u001b[1;32m    191\u001b[0m         \"\"\"\n\u001b[1;32m    192\u001b[0m         \u001b[0mestimator\u001b[0m \u001b[0;34m=\u001b[0m \u001b[0mclone\u001b[0m\u001b[0;34m(\u001b[0m\u001b[0mself\u001b[0m\u001b[0;34m.\u001b[0m\u001b[0mestimator_\u001b[0m\u001b[0;34m)\u001b[0m\u001b[0;34m\u001b[0m\u001b[0;34m\u001b[0m\u001b[0m\n\u001b[0;32m--> 193\u001b[0;31m         \u001b[0mestimator\u001b[0m\u001b[0;34m.\u001b[0m\u001b[0mset_params\u001b[0m\u001b[0;34m(\u001b[0m\u001b[0;34m**\u001b[0m\u001b[0;34m{\u001b[0m\u001b[0mp\u001b[0m\u001b[0;34m:\u001b[0m \u001b[0mgetattr\u001b[0m\u001b[0;34m(\u001b[0m\u001b[0mself\u001b[0m\u001b[0;34m,\u001b[0m \u001b[0mp\u001b[0m\u001b[0;34m)\u001b[0m \u001b[0;32mfor\u001b[0m \u001b[0mp\u001b[0m \u001b[0;32min\u001b[0m \u001b[0mself\u001b[0m\u001b[0;34m.\u001b[0m\u001b[0mestimator_params\u001b[0m\u001b[0;34m}\u001b[0m\u001b[0;34m)\u001b[0m\u001b[0;34m\u001b[0m\u001b[0;34m\u001b[0m\u001b[0m\n\u001b[0m\u001b[1;32m    194\u001b[0m \u001b[0;34m\u001b[0m\u001b[0m\n\u001b[1;32m    195\u001b[0m         \u001b[0;31m# TODO(1.3): Remove\u001b[0m\u001b[0;34m\u001b[0m\u001b[0;34m\u001b[0m\u001b[0m\n",
            "\u001b[0;32m/usr/local/lib/python3.9/dist-packages/sklearn/base.py\u001b[0m in \u001b[0;36mset_params\u001b[0;34m(self, **params)\u001b[0m\n\u001b[1;32m    196\u001b[0m             \u001b[0;31m# Simple optimization to gain speed (inspect is slow)\u001b[0m\u001b[0;34m\u001b[0m\u001b[0;34m\u001b[0m\u001b[0m\n\u001b[1;32m    197\u001b[0m             \u001b[0;32mreturn\u001b[0m \u001b[0mself\u001b[0m\u001b[0;34m\u001b[0m\u001b[0;34m\u001b[0m\u001b[0m\n\u001b[0;32m--> 198\u001b[0;31m         \u001b[0mvalid_params\u001b[0m \u001b[0;34m=\u001b[0m \u001b[0mself\u001b[0m\u001b[0;34m.\u001b[0m\u001b[0mget_params\u001b[0m\u001b[0;34m(\u001b[0m\u001b[0mdeep\u001b[0m\u001b[0;34m=\u001b[0m\u001b[0;32mTrue\u001b[0m\u001b[0;34m)\u001b[0m\u001b[0;34m\u001b[0m\u001b[0;34m\u001b[0m\u001b[0m\n\u001b[0m\u001b[1;32m    199\u001b[0m \u001b[0;34m\u001b[0m\u001b[0m\n\u001b[1;32m    200\u001b[0m         \u001b[0mnested_params\u001b[0m \u001b[0;34m=\u001b[0m \u001b[0mdefaultdict\u001b[0m\u001b[0;34m(\u001b[0m\u001b[0mdict\u001b[0m\u001b[0;34m)\u001b[0m  \u001b[0;31m# grouped by prefix\u001b[0m\u001b[0;34m\u001b[0m\u001b[0;34m\u001b[0m\u001b[0m\n",
            "\u001b[0;32m/usr/local/lib/python3.9/dist-packages/sklearn/base.py\u001b[0m in \u001b[0;36mget_params\u001b[0;34m(self, deep)\u001b[0m\n\u001b[1;32m    167\u001b[0m         \"\"\"\n\u001b[1;32m    168\u001b[0m         \u001b[0mout\u001b[0m \u001b[0;34m=\u001b[0m \u001b[0mdict\u001b[0m\u001b[0;34m(\u001b[0m\u001b[0;34m)\u001b[0m\u001b[0;34m\u001b[0m\u001b[0;34m\u001b[0m\u001b[0m\n\u001b[0;32m--> 169\u001b[0;31m         \u001b[0;32mfor\u001b[0m \u001b[0mkey\u001b[0m \u001b[0;32min\u001b[0m \u001b[0mself\u001b[0m\u001b[0;34m.\u001b[0m\u001b[0m_get_param_names\u001b[0m\u001b[0;34m(\u001b[0m\u001b[0;34m)\u001b[0m\u001b[0;34m:\u001b[0m\u001b[0;34m\u001b[0m\u001b[0;34m\u001b[0m\u001b[0m\n\u001b[0m\u001b[1;32m    170\u001b[0m             \u001b[0mvalue\u001b[0m \u001b[0;34m=\u001b[0m \u001b[0mgetattr\u001b[0m\u001b[0;34m(\u001b[0m\u001b[0mself\u001b[0m\u001b[0;34m,\u001b[0m \u001b[0mkey\u001b[0m\u001b[0;34m)\u001b[0m\u001b[0;34m\u001b[0m\u001b[0;34m\u001b[0m\u001b[0m\n\u001b[1;32m    171\u001b[0m             \u001b[0;32mif\u001b[0m \u001b[0mdeep\u001b[0m \u001b[0;32mand\u001b[0m \u001b[0mhasattr\u001b[0m\u001b[0;34m(\u001b[0m\u001b[0mvalue\u001b[0m\u001b[0;34m,\u001b[0m \u001b[0;34m\"get_params\"\u001b[0m\u001b[0;34m)\u001b[0m \u001b[0;32mand\u001b[0m \u001b[0;32mnot\u001b[0m \u001b[0misinstance\u001b[0m\u001b[0;34m(\u001b[0m\u001b[0mvalue\u001b[0m\u001b[0;34m,\u001b[0m \u001b[0mtype\u001b[0m\u001b[0;34m)\u001b[0m\u001b[0;34m:\u001b[0m\u001b[0;34m\u001b[0m\u001b[0;34m\u001b[0m\u001b[0m\n",
            "\u001b[0;32m/usr/local/lib/python3.9/dist-packages/sklearn/base.py\u001b[0m in \u001b[0;36m_get_param_names\u001b[0;34m(cls)\u001b[0m\n\u001b[1;32m    132\u001b[0m         \u001b[0;31m# introspect the constructor arguments to find the model parameters\u001b[0m\u001b[0;34m\u001b[0m\u001b[0;34m\u001b[0m\u001b[0m\n\u001b[1;32m    133\u001b[0m         \u001b[0;31m# to represent\u001b[0m\u001b[0;34m\u001b[0m\u001b[0;34m\u001b[0m\u001b[0m\n\u001b[0;32m--> 134\u001b[0;31m         \u001b[0minit_signature\u001b[0m \u001b[0;34m=\u001b[0m \u001b[0minspect\u001b[0m\u001b[0;34m.\u001b[0m\u001b[0msignature\u001b[0m\u001b[0;34m(\u001b[0m\u001b[0minit\u001b[0m\u001b[0;34m)\u001b[0m\u001b[0;34m\u001b[0m\u001b[0;34m\u001b[0m\u001b[0m\n\u001b[0m\u001b[1;32m    135\u001b[0m         \u001b[0;31m# Consider the constructor parameters excluding 'self'\u001b[0m\u001b[0;34m\u001b[0m\u001b[0;34m\u001b[0m\u001b[0m\n\u001b[1;32m    136\u001b[0m         parameters = [\n",
            "\u001b[0;32m/usr/lib/python3.9/inspect.py\u001b[0m in \u001b[0;36msignature\u001b[0;34m(obj, follow_wrapped)\u001b[0m\n\u001b[1;32m   3111\u001b[0m \u001b[0;32mdef\u001b[0m \u001b[0msignature\u001b[0m\u001b[0;34m(\u001b[0m\u001b[0mobj\u001b[0m\u001b[0;34m,\u001b[0m \u001b[0;34m*\u001b[0m\u001b[0;34m,\u001b[0m \u001b[0mfollow_wrapped\u001b[0m\u001b[0;34m=\u001b[0m\u001b[0;32mTrue\u001b[0m\u001b[0;34m)\u001b[0m\u001b[0;34m:\u001b[0m\u001b[0;34m\u001b[0m\u001b[0;34m\u001b[0m\u001b[0m\n\u001b[1;32m   3112\u001b[0m     \u001b[0;34m\"\"\"Get a signature object for the passed callable.\"\"\"\u001b[0m\u001b[0;34m\u001b[0m\u001b[0;34m\u001b[0m\u001b[0m\n\u001b[0;32m-> 3113\u001b[0;31m     \u001b[0;32mreturn\u001b[0m \u001b[0mSignature\u001b[0m\u001b[0;34m.\u001b[0m\u001b[0mfrom_callable\u001b[0m\u001b[0;34m(\u001b[0m\u001b[0mobj\u001b[0m\u001b[0;34m,\u001b[0m \u001b[0mfollow_wrapped\u001b[0m\u001b[0;34m=\u001b[0m\u001b[0mfollow_wrapped\u001b[0m\u001b[0;34m)\u001b[0m\u001b[0;34m\u001b[0m\u001b[0;34m\u001b[0m\u001b[0m\n\u001b[0m\u001b[1;32m   3114\u001b[0m \u001b[0;34m\u001b[0m\u001b[0m\n\u001b[1;32m   3115\u001b[0m \u001b[0;34m\u001b[0m\u001b[0m\n",
            "\u001b[0;32m/usr/lib/python3.9/inspect.py\u001b[0m in \u001b[0;36mfrom_callable\u001b[0;34m(cls, obj, follow_wrapped)\u001b[0m\n\u001b[1;32m   2860\u001b[0m     \u001b[0;32mdef\u001b[0m \u001b[0mfrom_callable\u001b[0m\u001b[0;34m(\u001b[0m\u001b[0mcls\u001b[0m\u001b[0;34m,\u001b[0m \u001b[0mobj\u001b[0m\u001b[0;34m,\u001b[0m \u001b[0;34m*\u001b[0m\u001b[0;34m,\u001b[0m \u001b[0mfollow_wrapped\u001b[0m\u001b[0;34m=\u001b[0m\u001b[0;32mTrue\u001b[0m\u001b[0;34m)\u001b[0m\u001b[0;34m:\u001b[0m\u001b[0;34m\u001b[0m\u001b[0;34m\u001b[0m\u001b[0m\n\u001b[1;32m   2861\u001b[0m         \u001b[0;34m\"\"\"Constructs Signature for the given callable object.\"\"\"\u001b[0m\u001b[0;34m\u001b[0m\u001b[0;34m\u001b[0m\u001b[0m\n\u001b[0;32m-> 2862\u001b[0;31m         return _signature_from_callable(obj, sigcls=cls,\n\u001b[0m\u001b[1;32m   2863\u001b[0m                                         follow_wrapper_chains=follow_wrapped)\n\u001b[1;32m   2864\u001b[0m \u001b[0;34m\u001b[0m\u001b[0m\n",
            "\u001b[0;32m/usr/lib/python3.9/inspect.py\u001b[0m in \u001b[0;36m_signature_from_callable\u001b[0;34m(obj, follow_wrapper_chains, skip_bound_arg, sigcls)\u001b[0m\n\u001b[1;32m   2323\u001b[0m         \u001b[0;31m# If it's a pure Python function, or an object that is duck type\u001b[0m\u001b[0;34m\u001b[0m\u001b[0;34m\u001b[0m\u001b[0m\n\u001b[1;32m   2324\u001b[0m         \u001b[0;31m# of a Python function (Cython functions, for instance), then:\u001b[0m\u001b[0;34m\u001b[0m\u001b[0;34m\u001b[0m\u001b[0m\n\u001b[0;32m-> 2325\u001b[0;31m         return _signature_from_function(sigcls, obj,\n\u001b[0m\u001b[1;32m   2326\u001b[0m                                         skip_bound_arg=skip_bound_arg)\n\u001b[1;32m   2327\u001b[0m \u001b[0;34m\u001b[0m\u001b[0m\n",
            "\u001b[0;32m/usr/lib/python3.9/inspect.py\u001b[0m in \u001b[0;36m_signature_from_function\u001b[0;34m(cls, func, skip_bound_arg)\u001b[0m\n\u001b[1;32m   2223\u001b[0m \u001b[0;34m\u001b[0m\u001b[0m\n\u001b[1;32m   2224\u001b[0m         \u001b[0mannotation\u001b[0m \u001b[0;34m=\u001b[0m \u001b[0mannotations\u001b[0m\u001b[0;34m.\u001b[0m\u001b[0mget\u001b[0m\u001b[0;34m(\u001b[0m\u001b[0mname\u001b[0m\u001b[0;34m,\u001b[0m \u001b[0m_empty\u001b[0m\u001b[0;34m)\u001b[0m\u001b[0;34m\u001b[0m\u001b[0;34m\u001b[0m\u001b[0m\n\u001b[0;32m-> 2225\u001b[0;31m         parameters.append(Parameter(name, annotation=annotation,\n\u001b[0m\u001b[1;32m   2226\u001b[0m                                     \u001b[0mkind\u001b[0m\u001b[0;34m=\u001b[0m\u001b[0m_KEYWORD_ONLY\u001b[0m\u001b[0;34m,\u001b[0m\u001b[0;34m\u001b[0m\u001b[0;34m\u001b[0m\u001b[0m\n\u001b[1;32m   2227\u001b[0m                                     default=default))\n",
            "\u001b[0;32m/usr/lib/python3.9/inspect.py\u001b[0m in \u001b[0;36m__init__\u001b[0;34m(self, name, kind, default, annotation)\u001b[0m\n\u001b[1;32m   2501\u001b[0m         \u001b[0;32mexcept\u001b[0m \u001b[0mValueError\u001b[0m\u001b[0;34m:\u001b[0m\u001b[0;34m\u001b[0m\u001b[0;34m\u001b[0m\u001b[0m\n\u001b[1;32m   2502\u001b[0m             \u001b[0;32mraise\u001b[0m \u001b[0mValueError\u001b[0m\u001b[0;34m(\u001b[0m\u001b[0;34mf'value {kind!r} is not a valid Parameter.kind'\u001b[0m\u001b[0;34m)\u001b[0m\u001b[0;34m\u001b[0m\u001b[0;34m\u001b[0m\u001b[0m\n\u001b[0;32m-> 2503\u001b[0;31m         \u001b[0;32mif\u001b[0m \u001b[0mdefault\u001b[0m \u001b[0;32mis\u001b[0m \u001b[0;32mnot\u001b[0m \u001b[0m_empty\u001b[0m\u001b[0;34m:\u001b[0m\u001b[0;34m\u001b[0m\u001b[0;34m\u001b[0m\u001b[0m\n\u001b[0m\u001b[1;32m   2504\u001b[0m             \u001b[0;32mif\u001b[0m \u001b[0mself\u001b[0m\u001b[0;34m.\u001b[0m\u001b[0m_kind\u001b[0m \u001b[0;32min\u001b[0m \u001b[0;34m(\u001b[0m\u001b[0m_VAR_POSITIONAL\u001b[0m\u001b[0;34m,\u001b[0m \u001b[0m_VAR_KEYWORD\u001b[0m\u001b[0;34m)\u001b[0m\u001b[0;34m:\u001b[0m\u001b[0;34m\u001b[0m\u001b[0;34m\u001b[0m\u001b[0m\n\u001b[1;32m   2505\u001b[0m                 \u001b[0mmsg\u001b[0m \u001b[0;34m=\u001b[0m \u001b[0;34m'{} parameters cannot have default values'\u001b[0m\u001b[0;34m\u001b[0m\u001b[0;34m\u001b[0m\u001b[0m\n",
            "\u001b[0;31mKeyboardInterrupt\u001b[0m: "
          ]
        }
      ]
    },
    {
      "cell_type": "markdown",
      "source": [
        "## Boosting"
      ],
      "metadata": {
        "id": "ApinREoaRnmh"
      }
    },
    {
      "cell_type": "code",
      "source": [
        "from sklearn.ensemble import GradientBoostingRegressor\n",
        "\n",
        "boosting = GradientBoostingRegressor(n_estimators=3000, learning_rate=0.001, max_depth=1, random_state=0).fit(X_train, Y_train)\n",
        "Y_test_predict = boosting.predict(X_test)\n",
        "mean_squared_error(Y_test,Y_test_predict)\n",
        "\n"
      ],
      "metadata": {
        "colab": {
          "base_uri": "https://localhost:8080/"
        },
        "id": "0E2Rc9SiRoT-",
        "outputId": "9a70fe7b-3a1b-4520-8fe8-e9505225d9d3"
      },
      "execution_count": 20,
      "outputs": [
        {
          "output_type": "execute_result",
          "data": {
            "text/plain": [
              "0.8578491060014112"
            ]
          },
          "metadata": {},
          "execution_count": 20
        }
      ]
    }
  ]
}